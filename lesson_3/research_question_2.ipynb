{
 "cells": [
  {
   "cell_type": "code",
   "execution_count": null,
   "metadata": {},
   "outputs": [],
   "source": [
    "from fastbook import *\n",
    "from fastai.vision.all import *"
   ]
  },
  {
   "cell_type": "code",
   "execution_count": null,
   "metadata": {},
   "outputs": [],
   "source": [
    "path = untar_data(URLs.MNIST)\n",
    "Path.BASE_PATH = path"
   ]
  },
  {
   "cell_type": "code",
   "execution_count": null,
   "metadata": {},
   "outputs": [],
   "source": [
    "def obtain_stacked_tensors(data_path, number):\n",
    "    values = (path/'{}'.format(data_path)/'{}'.format(number)).ls().sorted()\n",
    "    tensors = [tensor(Image.open(o)) for o in values]\n",
    "    stacked_tensors = torch.stack(tensors).float()/255\n",
    "    \n",
    "    return stacked_tensors"
   ]
  },
  {
   "cell_type": "code",
   "execution_count": null,
   "metadata": {},
   "outputs": [],
   "source": [
    "def obtain_labels(dataset_rows, data_path):\n",
    "    labels = []\n",
    "    start = 0\n",
    "    numbers = len((path/'{}'.format(data_path)).ls())\n",
    "    for number in range(numbers): \n",
    "        labels_column = tensor([0]*dataset_rows)\n",
    "        number_rows = len((path/'{}'.format(data_path)/'{}'.format(number)).ls().sorted())\n",
    "        if number != 9:\n",
    "            labels_column[start:number_rows] = 1\n",
    "            start = number_rows\n",
    "        else:\n",
    "            labels_column[start:] = 1\n",
    "            \n",
    "        labels.append(labels_column.unsqueeze(1))\n",
    "        \n",
    "    labels_tensor = torch.stack(labels)\n",
    "    \n",
    "    return labels_tensor.view(numbers, dataset_rows)"
   ]
  },
  {
   "cell_type": "code",
   "execution_count": null,
   "metadata": {},
   "outputs": [],
   "source": [
    "def obtain_dataloader(data_path, batch_size=32):\n",
    "    x = torch.cat([obtain_stacked_tensors(data_path, number) for number in range(10)]).view(-1, 28*28)\n",
    "    y = obtain_labels(x.shape[0], data_path)\n",
    "    \n",
    "    dset = list(zip(x, y))\n",
    "    \n",
    "    return DataLoader(dset, batch_size)"
   ]
  },
  {
   "cell_type": "code",
   "execution_count": null,
   "metadata": {},
   "outputs": [],
   "source": [
    "training_dl = obtain_dataloader('training')\n",
    "dls = DataLoaders(training_dl)"
   ]
  },
  {
   "cell_type": "code",
   "execution_count": null,
   "metadata": {},
   "outputs": [],
   "source": [
    "learn = Learner(\n",
    "    dls,\n",
    "    resnet18(),\n",
    "    opt_func=SGD,\n",
    "    loss_func=F.cross_entropy,\n",
    "    metrics=accuracy\n",
    ")"
   ]
  },
  {
   "cell_type": "code",
   "execution_count": null,
   "metadata": {},
   "outputs": [],
   "source": [
    "learn.fit(n_epoch=15)"
   ]
  },
  {
   "cell_type": "markdown",
   "metadata": {},
   "source": [
    "### Currently doesn't work. We will come back to this once we better understand why"
   ]
  }
 ],
 "metadata": {
  "kernelspec": {
   "display_name": "Python 3",
   "language": "python",
   "name": "python3"
  },
  "language_info": {
   "codemirror_mode": {
    "name": "ipython",
    "version": 3
   },
   "file_extension": ".py",
   "mimetype": "text/x-python",
   "name": "python",
   "nbconvert_exporter": "python",
   "pygments_lexer": "ipython3",
   "version": "3.8.5"
  }
 },
 "nbformat": 4,
 "nbformat_minor": 4
}
